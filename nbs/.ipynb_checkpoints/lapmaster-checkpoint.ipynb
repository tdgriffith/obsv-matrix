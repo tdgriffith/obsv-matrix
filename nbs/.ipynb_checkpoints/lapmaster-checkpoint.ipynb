{
 "cells": [
  {
   "cell_type": "code",
   "execution_count": 2,
   "metadata": {},
   "outputs": [
    {
     "ename": "ModuleNotFoundError",
     "evalue": "No module named 'pygame'",
     "output_type": "error",
     "traceback": [
      "\u001b[0;31m---------------------------------------------------------------------------\u001b[0m",
      "\u001b[0;31mModuleNotFoundError\u001b[0m                       Traceback (most recent call last)",
      "\u001b[0;32m<ipython-input-2-671b35b41eba>\u001b[0m in \u001b[0;36m<module>\u001b[0;34m\u001b[0m\n\u001b[0;32m----> 1\u001b[0;31m \u001b[0;32mimport\u001b[0m \u001b[0mpygame\u001b[0m\u001b[0;34m\u001b[0m\u001b[0;34m\u001b[0m\u001b[0m\n\u001b[0m",
      "\u001b[0;31mModuleNotFoundError\u001b[0m: No module named 'pygame'"
     ]
    }
   ],
   "source": [
    "import pygame"
   ]
  },
  {
   "cell_type": "code",
   "execution_count": 1,
   "metadata": {},
   "outputs": [
    {
     "ename": "SyntaxError",
     "evalue": "invalid syntax (car.py, line 74)",
     "output_type": "error",
     "traceback": [
      "Traceback \u001b[0;36m(most recent call last)\u001b[0m:\n",
      "  File \u001b[1;32m\"/home/tris/anaconda3/lib/python3.7/site-packages/IPython/core/interactiveshell.py\"\u001b[0m, line \u001b[1;32m3326\u001b[0m, in \u001b[1;35mrun_code\u001b[0m\n    exec(code_obj, self.user_global_ns, self.user_ns)\n",
      "\u001b[0;36m  File \u001b[0;32m\"<ipython-input-1-dee2b3415098>\"\u001b[0;36m, line \u001b[0;32m1\u001b[0;36m, in \u001b[0;35m<module>\u001b[0;36m\u001b[0m\n\u001b[0;31m    from lapmaster import car\u001b[0m\n",
      "\u001b[0;36m  File \u001b[0;32m\"/home/tris/Pugh-Autonomy-programs/obsv-matrix/nbs/lapmaster/car.py\"\u001b[0;36m, line \u001b[0;32m74\u001b[0m\n\u001b[0;31m    print self.gear,'\\t',int(10.0*self.speed),'\\t',self.lap\u001b[0m\n\u001b[0m             ^\u001b[0m\n\u001b[0;31mSyntaxError\u001b[0m\u001b[0;31m:\u001b[0m invalid syntax\n"
     ]
    }
   ],
   "source": [
    "from lapmaster import car\n",
    "car"
   ]
  },
  {
   "cell_type": "code",
   "execution_count": 1,
   "metadata": {},
   "outputs": [
    {
     "ename": "ModuleNotFoundError",
     "evalue": "No module named 'pygame'",
     "output_type": "error",
     "traceback": [
      "\u001b[0;31m---------------------------------------------------------------------------\u001b[0m",
      "\u001b[0;31mModuleNotFoundError\u001b[0m                       Traceback (most recent call last)",
      "\u001b[0;32m<ipython-input-1-d6ff8dc7c03e>\u001b[0m in \u001b[0;36m<module>\u001b[0;34m\u001b[0m\n\u001b[1;32m      3\u001b[0m \u001b[0;32mimport\u001b[0m \u001b[0mos\u001b[0m\u001b[0;34m\u001b[0m\u001b[0;34m\u001b[0m\u001b[0m\n\u001b[1;32m      4\u001b[0m \u001b[0mos\u001b[0m\u001b[0;34m.\u001b[0m\u001b[0menviron\u001b[0m\u001b[0;34m[\u001b[0m\u001b[0;34m'SDL_VIDEO_WINDOW_POS'\u001b[0m\u001b[0;34m]\u001b[0m \u001b[0;34m=\u001b[0m \u001b[0;34m\"%d,%d\"\u001b[0m \u001b[0;34m%\u001b[0m\u001b[0;34m(\u001b[0m\u001b[0mx\u001b[0m\u001b[0;34m,\u001b[0m\u001b[0my\u001b[0m\u001b[0;34m)\u001b[0m\u001b[0;34m\u001b[0m\u001b[0;34m\u001b[0m\u001b[0m\n\u001b[0;32m----> 5\u001b[0;31m \u001b[0;32mimport\u001b[0m \u001b[0mpygame\u001b[0m\u001b[0;34m\u001b[0m\u001b[0;34m\u001b[0m\u001b[0m\n\u001b[0m\u001b[1;32m      6\u001b[0m \u001b[0mpygame\u001b[0m\u001b[0;34m.\u001b[0m\u001b[0minit\u001b[0m\u001b[0;34m(\u001b[0m\u001b[0;34m)\u001b[0m\u001b[0;34m\u001b[0m\u001b[0;34m\u001b[0m\u001b[0m\n\u001b[1;32m      7\u001b[0m \u001b[0;32mfrom\u001b[0m \u001b[0mpygame\u001b[0m\u001b[0;34m.\u001b[0m\u001b[0mlocals\u001b[0m \u001b[0;32mimport\u001b[0m \u001b[0;34m*\u001b[0m\u001b[0;34m\u001b[0m\u001b[0;34m\u001b[0m\u001b[0m\n",
      "\u001b[0;31mModuleNotFoundError\u001b[0m: No module named 'pygame'"
     ]
    }
   ],
   "source": [
    "x = 8\n",
    "y = 30\n",
    "import os\n",
    "os.environ['SDL_VIDEO_WINDOW_POS'] = \"%d,%d\" %(x,y)\n",
    "import pygame\n",
    "pygame.init()\n",
    "from pygame.locals import *\n",
    "import math\n",
    "import pdb\n",
    "import car\n",
    "#import movie\n",
    "#screen_size = (1200,900)\n",
    "screen_size = (1024,768)"
   ]
  },
  {
   "cell_type": "code",
   "execution_count": null,
   "metadata": {},
   "outputs": [],
   "source": [
    "screen = pygame.display.set_mode(screen_size)\n",
    "MAX_LAPS = 10\n",
    "car.MAX_LAPS = MAX_LAPS\n",
    "screen.fill((0,192,0))\n",
    "clock = pygame.time.Clock()\n",
    "running = True\n",
    "red = car.Sprite()\n",
    "red.Load('red',360)\n",
    "car.xs = screen_size[0]/2;\n",
    "car.ys = screen_size[1]/2;\n",
    "track = pygame.image.load('track.png')\n",
    "visible_track = pygame.image.load('track_textured.png')\n",
    "trap = pygame.Rect(844,1324,140,200)\n",
    "trk = track.get_at((0,0))\n",
    "#track.set_colorkey(trk)\n",
    "inbox = trap.collidepoint(red.xc,red.yc)\n",
    "lap = 0\n",
    "#pdb.set_trace()\n",
    "frames = 0\n",
    "while running:\n",
    "    clock.tick(24)\n",
    "    frames = frames + 1\n",
    "    car.frames = frames\n",
    "    screen.fill((0,192,0))\n",
    "    red.Update()\n",
    "    if trap.collidepoint(red.xc,red.yc) == 0:\n",
    "        if inbox == 1 :\n",
    "            red.lap += 1\n",
    "            inbox = 0\n",
    "    else :\n",
    "        inbox = 1\n",
    "    screen.blit(visible_track,(car.xs-red.xc,car.ys-red.yc))\n",
    "    red.Draw(car.xs,car.ys,screen)\n",
    " #   movie.make_movie(screen,frames)\n",
    "    pygame.display.flip()\n",
    "    onboard = True\n",
    "    if red.xc >= track.get_width():\n",
    "        onboard = False\n",
    "    if red.xc < 0:\n",
    "        onboard = False\n",
    "    if red.yc >= track.get_height():\n",
    "        onboard = False\n",
    "    if red.yc < 0:\n",
    "        onboard = False\n",
    "    if onboard :\n",
    "        clr = track.get_at((red.xc,red.yc))\n",
    "    else :\n",
    "        clr = trk\n",
    "#    pdb.set_trace()\n",
    "    red.wobble = 0\n",
    "    if red.lap > MAX_LAPS :\n",
    "        print 'Total Time = ',frames/24\n",
    "        \n",
    "        for i in range(300):\n",
    "            clock.tick(24)\n",
    "        exit()\n",
    "    if clr == trk :\n",
    "#        print 'Off track'\n",
    "        red.wobble = 10\n",
    "#        pdb.set_trace()\n",
    "        if red.gear > 1:\n",
    "            red.gear = 1\n",
    "            red.speed = 1\n",
    "    key = pygame.key.get_pressed()\n",
    "    if red.gear > 0:\n",
    "        if key[K_d] :\n",
    "            red.view = (red.view+2)%360\n",
    "        elif key[K_a]:\n",
    "            red.view = (red.view+358)%360\n",
    "    for event in pygame.event.get():\n",
    "        if event.type == pygame.QUIT:\n",
    "            running = False\n",
    "        elif event.type == KEYDOWN:\n",
    "            if event.key == K_ESCAPE:\n",
    "                running = False;\n",
    "            elif event.key == K_UP:\n",
    "                red.gear = red.gear + 1\n",
    "                if red.gear<4 :\n",
    "                    red.Shift_Up()\n",
    "                if red.gear>4 :\n",
    "                    red.gear = 4\n",
    "            elif event.key == K_DOWN:\n",
    "                red.gear = red.gear - 1\n",
    "                if red.gear < 0:\n",
    "                    red.gear = 0\n",
    "#            elif event.key == K_RIGHT:\n",
    "#                red.view = (red.view + 2)%360\n",
    "#            elif event.key == K_LEFT:\n",
    "#                red.view = (red.view + 358)%360"
   ]
  }
 ],
 "metadata": {
  "kernelspec": {
   "display_name": "Python 3",
   "language": "python",
   "name": "python3"
  },
  "language_info": {
   "codemirror_mode": {
    "name": "ipython",
    "version": 3
   },
   "file_extension": ".py",
   "mimetype": "text/x-python",
   "name": "python",
   "nbconvert_exporter": "python",
   "pygments_lexer": "ipython3",
   "version": "3.7.4"
  }
 },
 "nbformat": 4,
 "nbformat_minor": 2
}
